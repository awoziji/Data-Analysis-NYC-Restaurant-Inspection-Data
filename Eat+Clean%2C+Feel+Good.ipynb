{
 "cells": [
  {
   "cell_type": "markdown",
   "metadata": {},
   "source": [
    "<h1>New York City Restaurant Inspection Data</h1>\n",
    "<h3>This dataset provides restaurant inspections, violations, grades and adjudication information.</h3>\n",
    "\n",
    "NAVIGATING THE NYC RESTAURANT ABC GRADING SYSTEM\n",
    "<li>0-13 Deficiency Points = \"A\"\n",
    "<li>14-27 Deficiency Points = \"B\"\n",
    "<li>28+ Deficiency Points = \"C\""
   ]
  },
  {
   "cell_type": "code",
   "execution_count": 1,
   "metadata": {},
   "outputs": [
    {
     "name": "stderr",
     "output_type": "stream",
     "text": [
      "/anaconda/lib/python3.6/site-packages/IPython/core/interactiveshell.py:2717: DtypeWarning: Columns (6) have mixed types. Specify dtype option on import or set low_memory=False.\n",
      "  interactivity=interactivity, compiler=compiler, result=result)\n"
     ]
    }
   ],
   "source": [
    "import pandas as pd\n",
    "import numpy as np\n",
    "df=pd.read_csv(\"/Users/xshen/Downloads/DOHMH_New_York_City_Restaurant_Inspection_Results.csv\")"
   ]
  },
  {
   "cell_type": "markdown",
   "metadata": {},
   "source": [
    "<li>delete useless columns ('PHONE','RECORD DATE')\n",
    "<li>choose only records in 2017\n",
    "<li>combine information recorded in several rows of every single restaurant into one row, so every row represent a unique restaurant"
   ]
  },
  {
   "cell_type": "code",
   "execution_count": 2,
   "metadata": {},
   "outputs": [
    {
     "name": "stderr",
     "output_type": "stream",
     "text": [
      "/anaconda/lib/python3.6/site-packages/ipykernel_launcher.py:4: FutureWarning: by argument to sort_index is deprecated, pls use .sort_values(by=...)\n",
      "  after removing the cwd from sys.path.\n"
     ]
    }
   ],
   "source": [
    "def data_cleansing():\n",
    "    df2=df.drop(['PHONE','RECORD DATE'],axis=1)#drop useless columns: 'PHONE','RECORD DATE'\n",
    "    sub1=df2.loc[df2['GRADE DATE'].str.contains('2017')==True]#only keep rows with grade date in 2017\n",
    "    sub2=sub1.sort_index(by='CAMIS')#sort by restaurant code\n",
    "    sub2\n",
    "    \n",
    "    datanp=np.array(sub2)\n",
    "    data2=[]\n",
    "    id=datanp[0][0]\n",
    "    data2.append(datanp[0])\n",
    "    for i in range(1,len(datanp)):\n",
    "        if datanp[i][0]==id:\n",
    "            data2[-1][9]='%s%s%s' % (data2[-1][9], ',', datanp[i][9])\n",
    "            data2[-1][10]='%s%s%s' % (data2[-1][10],' ', datanp[i][10])\n",
    "            if data2[-1][11]=='Not Critical':\n",
    "                data2[-1][11]=datanp[i][11]\n",
    "        else:\n",
    "            data2.append(datanp[i])\n",
    "        id=datanp[i][0]\n",
    "        \n",
    "    sub3 = pd.DataFrame(data2)\n",
    "    sub3.columns=['CAMIS','DBA','BORO','BUILDING','STREET','ZIPCODE','CUISINE','INSPECTION DATE','ACTION','VIOLATION CODE','VIOLATION DESCRIPTION','CRITICAL FLAG','SCORE','GRADE','GRADE DATE','INSPECTION TYPE']\n",
    "    \n",
    "    #some restaurants have more than one type of violation, and they are recorded in several rows\n",
    "    #since we want each restaurant keep information in one raw, we take information from several to combine into one row\n",
    "    #combined information includes: VIOLATION CODE, VIOLATION DESCRIPTION, VIOLATION DESCRIPTION\n",
    "    \n",
    "    sub3.set_index('DBA',inplace=True)\n",
    "    sub4=sub3[sub3.GRADE != 'Not Yet Graded']#delete rows which has not yet been graded\n",
    "    sub4=sub4[sub4.GRADE != 'Z']\n",
    "    sub4=sub4[sub4.GRADE != 'P']\n",
    "    sub4 = sub4[sub4.BORO != 'Missing']\n",
    "    sub4 = sub4.dropna(how='any')\n",
    "    return sub4\n",
    "r_data=data_cleansing()"
   ]
  },
  {
   "cell_type": "code",
   "execution_count": 4,
   "metadata": {},
   "outputs": [
    {
     "data": {
      "text/html": [
       "<div>\n",
       "<style scoped>\n",
       "    .dataframe tbody tr th:only-of-type {\n",
       "        vertical-align: middle;\n",
       "    }\n",
       "\n",
       "    .dataframe tbody tr th {\n",
       "        vertical-align: top;\n",
       "    }\n",
       "\n",
       "    .dataframe thead th {\n",
       "        text-align: right;\n",
       "    }\n",
       "</style>\n",
       "<table border=\"1\" class=\"dataframe\">\n",
       "  <thead>\n",
       "    <tr style=\"text-align: right;\">\n",
       "      <th></th>\n",
       "      <th>CAMIS</th>\n",
       "      <th>BORO</th>\n",
       "      <th>BUILDING</th>\n",
       "      <th>STREET</th>\n",
       "      <th>ZIPCODE</th>\n",
       "      <th>CUISINE</th>\n",
       "      <th>INSPECTION DATE</th>\n",
       "      <th>ACTION</th>\n",
       "      <th>VIOLATION CODE</th>\n",
       "      <th>VIOLATION DESCRIPTION</th>\n",
       "      <th>CRITICAL FLAG</th>\n",
       "      <th>SCORE</th>\n",
       "      <th>GRADE</th>\n",
       "      <th>GRADE DATE</th>\n",
       "      <th>INSPECTION TYPE</th>\n",
       "    </tr>\n",
       "    <tr>\n",
       "      <th>DBA</th>\n",
       "      <th></th>\n",
       "      <th></th>\n",
       "      <th></th>\n",
       "      <th></th>\n",
       "      <th></th>\n",
       "      <th></th>\n",
       "      <th></th>\n",
       "      <th></th>\n",
       "      <th></th>\n",
       "      <th></th>\n",
       "      <th></th>\n",
       "      <th></th>\n",
       "      <th></th>\n",
       "      <th></th>\n",
       "      <th></th>\n",
       "    </tr>\n",
       "  </thead>\n",
       "  <tbody>\n",
       "    <tr>\n",
       "      <th>MORRIS PARK BAKE SHOP</th>\n",
       "      <td>30075445</td>\n",
       "      <td>BRONX</td>\n",
       "      <td>1007</td>\n",
       "      <td>MORRIS PARK AVE</td>\n",
       "      <td>10462.0</td>\n",
       "      <td>Bakery</td>\n",
       "      <td>05/18/2017</td>\n",
       "      <td>Violations were cited in the following area(s).</td>\n",
       "      <td>06D,10F</td>\n",
       "      <td>Food contact surface not properly washed, rins...</td>\n",
       "      <td>Critical</td>\n",
       "      <td>7.0</td>\n",
       "      <td>A</td>\n",
       "      <td>05/18/2017</td>\n",
       "      <td>Cycle Inspection / Initial Inspection</td>\n",
       "    </tr>\n",
       "    <tr>\n",
       "      <th>WENDY'S</th>\n",
       "      <td>30112340</td>\n",
       "      <td>BROOKLYN</td>\n",
       "      <td>469</td>\n",
       "      <td>FLATBUSH AVENUE</td>\n",
       "      <td>11225.0</td>\n",
       "      <td>Hamburgers</td>\n",
       "      <td>10/06/2017</td>\n",
       "      <td>Violations were cited in the following area(s).</td>\n",
       "      <td>10F,04H</td>\n",
       "      <td>Non-food contact surface improperly constructe...</td>\n",
       "      <td>Critical</td>\n",
       "      <td>10.0</td>\n",
       "      <td>A</td>\n",
       "      <td>10/06/2017</td>\n",
       "      <td>Cycle Inspection / Re-inspection</td>\n",
       "    </tr>\n",
       "    <tr>\n",
       "      <th>RIVIERA CATERERS</th>\n",
       "      <td>40356018</td>\n",
       "      <td>BROOKLYN</td>\n",
       "      <td>2780</td>\n",
       "      <td>STILLWELL AVENUE</td>\n",
       "      <td>11224.0</td>\n",
       "      <td>American</td>\n",
       "      <td>07/20/2017</td>\n",
       "      <td>Violations were cited in the following area(s).</td>\n",
       "      <td>10B,10F,06C</td>\n",
       "      <td>Plumbing not properly installed or maintained;...</td>\n",
       "      <td>Critical</td>\n",
       "      <td>13.0</td>\n",
       "      <td>A</td>\n",
       "      <td>07/20/2017</td>\n",
       "      <td>Cycle Inspection / Initial Inspection</td>\n",
       "    </tr>\n",
       "    <tr>\n",
       "      <th>BRUNOS ON THE BOULEVARD</th>\n",
       "      <td>40356151</td>\n",
       "      <td>QUEENS</td>\n",
       "      <td>8825</td>\n",
       "      <td>ASTORIA BOULEVARD</td>\n",
       "      <td>11369.0</td>\n",
       "      <td>American</td>\n",
       "      <td>08/19/2017</td>\n",
       "      <td>Violations were cited in the following area(s).</td>\n",
       "      <td>10F,06C</td>\n",
       "      <td>Non-food contact surface improperly constructe...</td>\n",
       "      <td>Critical</td>\n",
       "      <td>10.0</td>\n",
       "      <td>A</td>\n",
       "      <td>08/19/2017</td>\n",
       "      <td>Cycle Inspection / Initial Inspection</td>\n",
       "    </tr>\n",
       "    <tr>\n",
       "      <th>WILKEN'S FINE FOOD</th>\n",
       "      <td>40356483</td>\n",
       "      <td>BROOKLYN</td>\n",
       "      <td>7114</td>\n",
       "      <td>AVENUE U</td>\n",
       "      <td>11234.0</td>\n",
       "      <td>Delicatessen</td>\n",
       "      <td>06/03/2017</td>\n",
       "      <td>Violations were cited in the following area(s).</td>\n",
       "      <td>08A,09A,04L</td>\n",
       "      <td>Facility not vermin proof. Harborage or condit...</td>\n",
       "      <td>Critical</td>\n",
       "      <td>13.0</td>\n",
       "      <td>A</td>\n",
       "      <td>06/03/2017</td>\n",
       "      <td>Cycle Inspection / Initial Inspection</td>\n",
       "    </tr>\n",
       "  </tbody>\n",
       "</table>\n",
       "</div>"
      ],
      "text/plain": [
       "                            CAMIS      BORO BUILDING             STREET  \\\n",
       "DBA                                                                       \n",
       "MORRIS PARK BAKE SHOP    30075445     BRONX     1007    MORRIS PARK AVE   \n",
       "WENDY'S                  30112340  BROOKLYN      469    FLATBUSH AVENUE   \n",
       "RIVIERA CATERERS         40356018  BROOKLYN     2780   STILLWELL AVENUE   \n",
       "BRUNOS ON THE BOULEVARD  40356151    QUEENS     8825  ASTORIA BOULEVARD   \n",
       "WILKEN'S FINE FOOD       40356483  BROOKLYN     7114           AVENUE U   \n",
       "\n",
       "                         ZIPCODE       CUISINE INSPECTION DATE  \\\n",
       "DBA                                                              \n",
       "MORRIS PARK BAKE SHOP    10462.0        Bakery      05/18/2017   \n",
       "WENDY'S                  11225.0    Hamburgers      10/06/2017   \n",
       "RIVIERA CATERERS         11224.0      American      07/20/2017   \n",
       "BRUNOS ON THE BOULEVARD  11369.0      American      08/19/2017   \n",
       "WILKEN'S FINE FOOD       11234.0  Delicatessen      06/03/2017   \n",
       "\n",
       "                                                                  ACTION  \\\n",
       "DBA                                                                        \n",
       "MORRIS PARK BAKE SHOP    Violations were cited in the following area(s).   \n",
       "WENDY'S                  Violations were cited in the following area(s).   \n",
       "RIVIERA CATERERS         Violations were cited in the following area(s).   \n",
       "BRUNOS ON THE BOULEVARD  Violations were cited in the following area(s).   \n",
       "WILKEN'S FINE FOOD       Violations were cited in the following area(s).   \n",
       "\n",
       "                        VIOLATION CODE  \\\n",
       "DBA                                      \n",
       "MORRIS PARK BAKE SHOP          06D,10F   \n",
       "WENDY'S                        10F,04H   \n",
       "RIVIERA CATERERS           10B,10F,06C   \n",
       "BRUNOS ON THE BOULEVARD        10F,06C   \n",
       "WILKEN'S FINE FOOD         08A,09A,04L   \n",
       "\n",
       "                                                     VIOLATION DESCRIPTION  \\\n",
       "DBA                                                                          \n",
       "MORRIS PARK BAKE SHOP    Food contact surface not properly washed, rins...   \n",
       "WENDY'S                  Non-food contact surface improperly constructe...   \n",
       "RIVIERA CATERERS         Plumbing not properly installed or maintained;...   \n",
       "BRUNOS ON THE BOULEVARD  Non-food contact surface improperly constructe...   \n",
       "WILKEN'S FINE FOOD       Facility not vermin proof. Harborage or condit...   \n",
       "\n",
       "                        CRITICAL FLAG  SCORE GRADE  GRADE DATE  \\\n",
       "DBA                                                              \n",
       "MORRIS PARK BAKE SHOP        Critical    7.0     A  05/18/2017   \n",
       "WENDY'S                      Critical   10.0     A  10/06/2017   \n",
       "RIVIERA CATERERS             Critical   13.0     A  07/20/2017   \n",
       "BRUNOS ON THE BOULEVARD      Critical   10.0     A  08/19/2017   \n",
       "WILKEN'S FINE FOOD           Critical   13.0     A  06/03/2017   \n",
       "\n",
       "                                               INSPECTION TYPE  \n",
       "DBA                                                             \n",
       "MORRIS PARK BAKE SHOP    Cycle Inspection / Initial Inspection  \n",
       "WENDY'S                       Cycle Inspection / Re-inspection  \n",
       "RIVIERA CATERERS         Cycle Inspection / Initial Inspection  \n",
       "BRUNOS ON THE BOULEVARD  Cycle Inspection / Initial Inspection  \n",
       "WILKEN'S FINE FOOD       Cycle Inspection / Initial Inspection  "
      ]
     },
     "execution_count": 4,
     "metadata": {},
     "output_type": "execute_result"
    }
   ],
   "source": [
    "r_data.head()"
   ]
  },
  {
   "cell_type": "markdown",
   "metadata": {},
   "source": [
    "<h2>Data Visualization"
   ]
  },
  {
   "cell_type": "markdown",
   "metadata": {},
   "source": [
    "<h3>Total number of restaurants received inspection in NYC grouped by borough"
   ]
  },
  {
   "cell_type": "code",
   "execution_count": 5,
   "metadata": {},
   "outputs": [
    {
     "data": {
      "image/png": "[encoded data removed]",
      "text/plain": [
       "<matplotlib.figure.Figure at 0x2429bb5a0f0>"
      ]
     },
     "metadata": {},
     "output_type": "display_data"
    }
   ],
   "source": [
    "%matplotlib inline\n",
    "import matplotlib.pyplot as plt\n",
    "import seaborn as sns\n",
    "\n",
    "data=r_data\n",
    "colors = [\"#7199cf\", \"#4fc4aa\", \"#e1a7a2\",\"#D7C4BB\",\"#91B493\"]\n",
    "plt.style.use('seaborn')\n",
    "borough_group = data.groupby('BORO')\n",
    "borough_group.size().plot(kind='bar',color = colors)\n",
    "plt.xlabel('Borough') \n",
    "plt.ylabel('Restaurants received inspection') \n",
    "plt.title('Total number of restaurants received inspection in NYC grouped by borough') \n",
    "plt.show()"
   ]
  },
  {
   "cell_type": "code",
   "execution_count": 6,
   "metadata": {},
   "outputs": [
    {
     "name": "stdout",
     "output_type": "stream",
     "text": [
      "GRADE\n",
      "A    17376\n",
      "B     1408\n",
      "C      283\n",
      "dtype: int64\n"
     ]
    }
   ],
   "source": [
    "grouped_by_grade= data.groupby('GRADE')\n",
    "print(grouped_by_grade.size())"
   ]
  },
  {
   "cell_type": "code",
   "execution_count": 7,
   "metadata": {},
   "outputs": [
    {
     "data": {
      "image/png": "[encoded data removed]",
      "text/plain": [
       "<matplotlib.figure.Figure at 0x2429c2cc630>"
      ]
     },
     "metadata": {},
     "output_type": "display_data"
    }
   ],
   "source": [
    "alldata = {\n",
    "    'A': (17337, '#7199cf'),\n",
    "    'B': (1407, '#4fc4aa'),\n",
    "    'C': (283, '#e1a7a2')\n",
    "}\n",
    "\n",
    "fig=plt.figure('Bar chart')\n",
    "\n",
    "ax=fig.add_subplot(111)\n",
    "ax.set_title(\"The result of 2017 food inspection in NYC\")\n",
    "xticks=np.arange(3)\n",
    "bar_width=0.5\n",
    "a=alldata.keys()\n",
    "s=[x[0] for x in alldata.values()]\n",
    "colors=[x[1] for x in alldata.values()]\n",
    "bars=ax.bar(xticks,s,width=bar_width,edgecolor='none')\n",
    "ax.set_ylabel('Number of Restaurants')\n",
    "ax.set_xticks(xticks+bar_width/2)\n",
    "ax.set_xticklabels(a)\n",
    "ax.set_xlim([bar_width/2-0.5,3-bar_width/2])\n",
    "for bar,color in zip(bars,colors):\n",
    "    bar.set_color(color)\n",
    "plt.show()"
   ]
  },
  {
   "cell_type": "code",
   "execution_count": 8,
   "metadata": {},
   "outputs": [
    {
     "data": {
      "image/png": "[encoded data removed]",
      "text/plain": [
       "<matplotlib.figure.Figure at 0x2429c33d390>"
      ]
     },
     "metadata": {},
     "output_type": "display_data"
    }
   ],
   "source": [
    "import matplotlib as mpl\n",
    "mpl.rcParams['axes.titlesize'] = 20\n",
    "mpl.rcParams['xtick.labelsize'] = 13\n",
    "mpl.rcParams['ytick.labelsize'] = 13\n",
    "mpl.rcParams['axes.labelsize'] = 13\n",
    "mpl.rcParams['xtick.major.size'] = 0\n",
    "mpl.rcParams['ytick.major.size'] = 0\n",
    "\n",
    "alldata = {\n",
    "    'A': (17337, '#7199cf'),\n",
    "    'B': (1407, '#4fc4aa'),\n",
    "    'C': (283, '#e1a7a2')\n",
    "}\n",
    "\n",
    "a=alldata.keys()\n",
    "\n",
    "s=[x[0] for x in alldata.values()]\n",
    "\n",
    "fig=plt.figure('Bar chart')\n",
    "\n",
    "ax=fig.add_subplot(111)\n",
    "ax.set_title('Pie Chart of all inspection result')\n",
    "labels=['{}\\n{}'.format(a,s) for a,s in zip(a,s)]\n",
    "\n",
    "ax.pie(s,labels=labels,colors=colors,autopct='%1.1f%%',explode=(0, 0.15, 0.3))\n",
    "ax.axis(\"equal\")\n",
    "\n",
    "plt.show()"
   ]
  },
  {
   "cell_type": "code",
   "execution_count": 9,
   "metadata": {
    "scrolled": true
   },
   "outputs": [
    {
     "data": {
      "text/html": [
       "<div>\n",
       "<style scoped>\n",
       "    .dataframe tbody tr th:only-of-type {\n",
       "        vertical-align: middle;\n",
       "    }\n",
       "\n",
       "    .dataframe tbody tr th {\n",
       "        vertical-align: top;\n",
       "    }\n",
       "\n",
       "    .dataframe thead th {\n",
       "        text-align: right;\n",
       "    }\n",
       "</style>\n",
       "<table border=\"1\" class=\"dataframe\">\n",
       "  <thead>\n",
       "    <tr style=\"text-align: right;\">\n",
       "      <th>GRADE</th>\n",
       "      <th>A</th>\n",
       "      <th>B</th>\n",
       "      <th>C</th>\n",
       "    </tr>\n",
       "    <tr>\n",
       "      <th>BORO</th>\n",
       "      <th></th>\n",
       "      <th></th>\n",
       "      <th></th>\n",
       "    </tr>\n",
       "  </thead>\n",
       "  <tbody>\n",
       "    <tr>\n",
       "      <th>BRONX</th>\n",
       "      <td>1641</td>\n",
       "      <td>142</td>\n",
       "      <td>35</td>\n",
       "    </tr>\n",
       "    <tr>\n",
       "      <th>BROOKLYN</th>\n",
       "      <td>4271</td>\n",
       "      <td>340</td>\n",
       "      <td>68</td>\n",
       "    </tr>\n",
       "    <tr>\n",
       "      <th>MANHATTAN</th>\n",
       "      <td>6923</td>\n",
       "      <td>524</td>\n",
       "      <td>106</td>\n",
       "    </tr>\n",
       "    <tr>\n",
       "      <th>QUEENS</th>\n",
       "      <td>3902</td>\n",
       "      <td>337</td>\n",
       "      <td>63</td>\n",
       "    </tr>\n",
       "    <tr>\n",
       "      <th>STATEN ISLAND</th>\n",
       "      <td>639</td>\n",
       "      <td>65</td>\n",
       "      <td>11</td>\n",
       "    </tr>\n",
       "  </tbody>\n",
       "</table>\n",
       "</div>"
      ],
      "text/plain": [
       "GRADE             A    B    C\n",
       "BORO                         \n",
       "BRONX          1641  142   35\n",
       "BROOKLYN       4271  340   68\n",
       "MANHATTAN      6923  524  106\n",
       "QUEENS         3902  337   63\n",
       "STATEN ISLAND   639   65   11"
      ]
     },
     "execution_count": 9,
     "metadata": {},
     "output_type": "execute_result"
    }
   ],
   "source": [
    "grade_borough = data.groupby(['BORO', 'GRADE']).size().unstack()\n",
    "grade_borough"
   ]
  },
  {
   "cell_type": "code",
   "execution_count": 10,
   "metadata": {
    "scrolled": true
   },
   "outputs": [
    {
     "data": {
      "text/plain": [
       "Text(0,0.5,'Number of Restaurants')"
      ]
     },
     "execution_count": 10,
     "metadata": {},
     "output_type": "execute_result"
    },
    {
     "data": {
      "image/png": "[encoded data removed]",
      "text/plain": [
       "<matplotlib.figure.Figure at 0x2429c29aef0>"
      ]
     },
     "metadata": {},
     "output_type": "display_data"
    }
   ],
   "source": [
    "colors = [\"#7199cf\", \"#4fc4aa\", \"#e1a7a2\"]\n",
    "grade_borough = data.groupby(['BORO','GRADE'])\n",
    "ax = grade_borough.size().unstack().plot(kind='bar',color= colors,title=\"Grade Distribution by Borough\",figsize=(12,12))\n",
    "# Set the x-axis label\n",
    "ax.set_xlabel(\"Borough\")\n",
    "\n",
    "# Set the y-axis label\n",
    "ax.set_ylabel(\"Number of Restaurants\")"
   ]
  },
  {
   "cell_type": "code",
   "execution_count": 11,
   "metadata": {
    "scrolled": true
   },
   "outputs": [
    {
     "data": {
      "image/png": "[encoded data removed]",
      "text/plain": [
       "<matplotlib.figure.Figure at 0x242a12306a0>"
      ]
     },
     "metadata": {},
     "output_type": "display_data"
    }
   ],
   "source": [
    "# libraries\n",
    "import numpy as np\n",
    "import matplotlib.pyplot as plt\n",
    "from matplotlib import rc\n",
    "import pandas as pd\n",
    " \n",
    "# Data\n",
    "r = [0,1,2,3,4]\n",
    "raw_data = {'greenBars': [1638, 4261, 6901, 3898, 639], 'orangeBars': [142, 339, 524, 337, 65],'blueBars': [35, 68, 106, 63, 11]}\n",
    "df = pd.DataFrame(raw_data)\n",
    " \n",
    "# From raw value to percentage\n",
    "totals = [i+j+k for i,j,k in zip(df['greenBars'], df['orangeBars'], df['blueBars'])]\n",
    "greenBars = [i / j * 100 for i,j in zip(df['greenBars'], totals)]\n",
    "orangeBars = [i / j * 100 for i,j in zip(df['orangeBars'], totals)]\n",
    "blueBars = [i / j * 100 for i,j in zip(df['blueBars'], totals)]\n",
    " \n",
    "# plot\n",
    "barWidth = 0.85\n",
    "names = ('BRONX','Brooklyn','Manhattan','Queens','Staten Island')\n",
    "# Create green Bars\n",
    "plt.bar(r, greenBars, color='#7199cf', edgecolor='#7199cf', width=barWidth)\n",
    "# Create orange Bars\n",
    "plt.bar(r, orangeBars, bottom=greenBars, color='#4fc4aa', edgecolor='white', width=barWidth)\n",
    "# Create blue Bars\n",
    "plt.bar(r, blueBars, bottom=[i+j for i,j in zip(greenBars, orangeBars)], color='#e1a7a2', edgecolor='white', width=barWidth)\n",
    " \n",
    "# Custom x axis\n",
    "plt.xticks(r, names)\n",
    "plt.xlabel(\"group\")\n",
    " \n",
    "# Show graphic\n",
    "plt.show()"
   ]
  },
  {
   "cell_type": "code",
   "execution_count": 14,
   "metadata": {
    "collapsed": true,
    "scrolled": true
   },
   "outputs": [],
   "source": [
    "data_big5_cuisine = data[(data.CUISINE == 'American')|(data.CUISINE == 'Chinese')|(data.CUISINE == 'CafÃ©/Coffee/Tea')|(data.CUISINE  == 'Pizza')|(data.CUISINE == 'Italian')]"
   ]
  },
  {
   "cell_type": "code",
   "execution_count": 15,
   "metadata": {
    "scrolled": true
   },
   "outputs": [
    {
     "data": {
      "text/plain": [
       "Text(0,0.5,'Number of Restaurants')"
      ]
     },
     "execution_count": 15,
     "metadata": {},
     "output_type": "execute_result"
    },
    {
     "data": {
      "image/png": "[encoded data removed]",
      "text/plain": [
       "<matplotlib.figure.Figure at 0x2429c453d30>"
      ]
     },
     "metadata": {},
     "output_type": "display_data"
    }
   ],
   "source": [
    "colors = [\"#7199cf\", \"#4fc4aa\", \"#e1a7a2\"]\n",
    "grade_cuisine_biggest_five = data_big5_cuisine.groupby(['CUISINE','GRADE'])\n",
    "ax = grade_cuisine_biggest_five.size().unstack().plot(kind='bar',color=colors, title=\"Grade Distribution of 5 Biggest Cuisine\",figsize=(12,12))\n",
    "\n",
    "# Set the x-axis label\n",
    "ax.set_xlabel(\"Cuisine\")\n",
    "# Set the y-axis label\n",
    "ax.set_ylabel(\"Number of Restaurants\")"
   ]
  },
  {
   "cell_type": "code",
   "execution_count": 16,
   "metadata": {},
   "outputs": [
    {
     "data": {
      "text/html": [
       "<div>\n",
       "<style scoped>\n",
       "    .dataframe tbody tr th:only-of-type {\n",
       "        vertical-align: middle;\n",
       "    }\n",
       "\n",
       "    .dataframe tbody tr th {\n",
       "        vertical-align: top;\n",
       "    }\n",
       "\n",
       "    .dataframe thead th {\n",
       "        text-align: right;\n",
       "    }\n",
       "</style>\n",
       "<table border=\"1\" class=\"dataframe\">\n",
       "  <thead>\n",
       "    <tr style=\"text-align: right;\">\n",
       "      <th>GRADE</th>\n",
       "      <th>A</th>\n",
       "      <th>B</th>\n",
       "      <th>C</th>\n",
       "    </tr>\n",
       "    <tr>\n",
       "      <th>CUISINE</th>\n",
       "      <th></th>\n",
       "      <th></th>\n",
       "      <th></th>\n",
       "    </tr>\n",
       "  </thead>\n",
       "  <tbody>\n",
       "    <tr>\n",
       "      <th>American</th>\n",
       "      <td>4136</td>\n",
       "      <td>284</td>\n",
       "      <td>49</td>\n",
       "    </tr>\n",
       "    <tr>\n",
       "      <th>CafÃ©/Coffee/Tea</th>\n",
       "      <td>1218</td>\n",
       "      <td>41</td>\n",
       "      <td>4</td>\n",
       "    </tr>\n",
       "    <tr>\n",
       "      <th>Chinese</th>\n",
       "      <td>1601</td>\n",
       "      <td>188</td>\n",
       "      <td>41</td>\n",
       "    </tr>\n",
       "    <tr>\n",
       "      <th>Italian</th>\n",
       "      <td>686</td>\n",
       "      <td>49</td>\n",
       "      <td>6</td>\n",
       "    </tr>\n",
       "    <tr>\n",
       "      <th>Pizza</th>\n",
       "      <td>826</td>\n",
       "      <td>61</td>\n",
       "      <td>14</td>\n",
       "    </tr>\n",
       "  </tbody>\n",
       "</table>\n",
       "</div>"
      ],
      "text/plain": [
       "GRADE                A    B   C\n",
       "CUISINE                        \n",
       "American          4136  284  49\n",
       "CafÃ©/Coffee/Tea  1218   41   4\n",
       "Chinese           1601  188  41\n",
       "Italian            686   49   6\n",
       "Pizza              826   61  14"
      ]
     },
     "execution_count": 16,
     "metadata": {},
     "output_type": "execute_result"
    }
   ],
   "source": [
    "grade_cuisine_biggest_five.size().unstack()"
   ]
  },
  {
   "cell_type": "code",
   "execution_count": 17,
   "metadata": {},
   "outputs": [
    {
     "data": {
      "image/png": "[encoded data removed]",
      "text/plain": [
       "<matplotlib.figure.Figure at 0x242a1285898>"
      ]
     },
     "metadata": {},
     "output_type": "display_data"
    }
   ],
   "source": [
    "# libraries\n",
    "import numpy as np\n",
    "import matplotlib.pyplot as plt\n",
    "from matplotlib import rc\n",
    "import pandas as pd\n",
    " \n",
    "# Data\n",
    "r = [0,1,2,3,4]\n",
    "raw_data = {'greenBars': [4132, 1210, 1597, 686, 825], 'orangeBars': [284, 41, 188, 49, 61],'blueBars': [49, 4, 41, 6, 14]}\n",
    "df = pd.DataFrame(raw_data)\n",
    " \n",
    "# From raw value to percentage\n",
    "totals = [i+j+k for i,j,k in zip(df['greenBars'], df['orangeBars'], df['blueBars'])]\n",
    "greenBars = [i / j * 100 for i,j in zip(df['greenBars'], totals)]\n",
    "orangeBars = [i / j * 100 for i,j in zip(df['orangeBars'], totals)]\n",
    "blueBars = [i / j * 100 for i,j in zip(df['blueBars'], totals)]\n",
    " \n",
    "# plot\n",
    "barWidth = 0.85\n",
    "names = ('American','CafÃ©/Coffee/Tea','Chinese','Italian','Pizza')\n",
    "# Create green Bars\n",
    "plt.bar(r, greenBars, color='#7199cf', edgecolor='#7199cf', width=barWidth)\n",
    "# Create orange Bars\n",
    "plt.bar(r, orangeBars, bottom=greenBars, color='#4fc4aa', edgecolor='white', width=barWidth)\n",
    "# Create blue Bars\n",
    "plt.bar(r, blueBars, bottom=[i+j for i,j in zip(greenBars, orangeBars)], color='#e1a7a2', edgecolor='white', width=barWidth)\n",
    " \n",
    "# Custom x axis\n",
    "plt.xticks(r, names)\n",
    "plt.xlabel(\"group\")\n",
    " \n",
    "# Show graphic\n",
    "plt.show()"
   ]
  },
  {
   "cell_type": "markdown",
   "metadata": {},
   "source": [
    "<h3>Mapping"
   ]
  },
  {
   "cell_type": "code",
   "execution_count": 429,
   "metadata": {
    "collapsed": true
   },
   "outputs": [],
   "source": [
    "#Be careful! Don't run this kernel\n",
    "import requests\n",
    "\n",
    "APIKEY = \"\"\n",
    "def return_lat_long(address):\n",
    "    url = 'https://maps.googleapis.com/maps/api/geocode/json?key={0}&address={1},NY&region=us'.format(APIKEY,address)\n",
    "    response= requests.request('get',url)\n",
    "    if response.status_code == 200:\n",
    "        if response.json()['results']:\n",
    "            results = response.json()['results'][0]\n",
    "            lat = results['geometry']['location']['lat']\n",
    "            lng = results['geometry']['location']['lng']   \n",
    "        else:\n",
    "            lat = ''\n",
    "            lng = ''\n",
    "            \n",
    "        result = {'latitude':lat,'longitude':lng}\n",
    "    else:\n",
    "        return 'WRONG URL'\n",
    "    return result\n",
    "    \n",
    "\n",
    "#Build a dataframe with latitude and longitude\n",
    "map_address = pd.DataFrame({'address':data.loc[:,'BUILDING']+' '+data.loc[:,'STREET'],'grade':data['GRADE']})\n",
    "map_address['latitude'] = np.nan\n",
    "map_address['longitude'] = np.nan\n",
    "\n",
    "#get latitude and longitude from google geocode\n",
    "for n in range(len(map_address)):\n",
    "    address = map_address.iloc[n,0]\n",
    "    result = return_lat_long(address)\n",
    "    map_address.iloc[n,2] = result['latitude']\n",
    "    map_address.iloc[n,3] = result['longitude']\n",
    "\n",
    "map_address.to_csv('map_data.csv',index=True,header=True)"
   ]
  },
  {
   "cell_type": "code",
   "execution_count": 4,
   "metadata": {
    "scrolled": true
   },
   "outputs": [
    {
     "data": {
      "text/html": [
       "<div>\n",
       "<style>\n",
       "    .dataframe thead tr:only-child th {\n",
       "        text-align: right;\n",
       "    }\n",
       "\n",
       "    .dataframe thead th {\n",
       "        text-align: left;\n",
       "    }\n",
       "\n",
       "    .dataframe tbody tr th {\n",
       "        vertical-align: top;\n",
       "    }\n",
       "</style>\n",
       "<table border=\"1\" class=\"dataframe\">\n",
       "  <thead>\n",
       "    <tr style=\"text-align: right;\">\n",
       "      <th></th>\n",
       "      <th>DBA</th>\n",
       "      <th>address</th>\n",
       "      <th>grade</th>\n",
       "      <th>latitude</th>\n",
       "      <th>longitude</th>\n",
       "    </tr>\n",
       "  </thead>\n",
       "  <tbody>\n",
       "    <tr>\n",
       "      <th>0</th>\n",
       "      <td>MORRIS PARK BAKE SHOP</td>\n",
       "      <td>1007 MORRIS PARK AVE</td>\n",
       "      <td>A</td>\n",
       "      <td>40.848432</td>\n",
       "      <td>-73.856035</td>\n",
       "    </tr>\n",
       "    <tr>\n",
       "      <th>1</th>\n",
       "      <td>WENDY'S</td>\n",
       "      <td>469 FLATBUSH AVENUE</td>\n",
       "      <td>A</td>\n",
       "      <td>40.662921</td>\n",
       "      <td>-73.961727</td>\n",
       "    </tr>\n",
       "    <tr>\n",
       "      <th>2</th>\n",
       "      <td>RIVIERA CATERERS</td>\n",
       "      <td>2780 STILLWELL AVENUE</td>\n",
       "      <td>A</td>\n",
       "      <td>40.579526</td>\n",
       "      <td>-73.982425</td>\n",
       "    </tr>\n",
       "    <tr>\n",
       "      <th>3</th>\n",
       "      <td>BRUNOS ON THE BOULEVARD</td>\n",
       "      <td>8825 ASTORIA BOULEVARD</td>\n",
       "      <td>A</td>\n",
       "      <td>40.764312</td>\n",
       "      <td>-73.880383</td>\n",
       "    </tr>\n",
       "    <tr>\n",
       "      <th>4</th>\n",
       "      <td>WILKEN'S FINE FOOD</td>\n",
       "      <td>7114 AVENUE U</td>\n",
       "      <td>A</td>\n",
       "      <td>40.619893</td>\n",
       "      <td>-73.906840</td>\n",
       "    </tr>\n",
       "  </tbody>\n",
       "</table>\n",
       "</div>"
      ],
      "text/plain": [
       "                       DBA                 address grade   latitude  longitude\n",
       "0    MORRIS PARK BAKE SHOP    1007 MORRIS PARK AVE     A  40.848432 -73.856035\n",
       "1                  WENDY'S     469 FLATBUSH AVENUE     A  40.662921 -73.961727\n",
       "2         RIVIERA CATERERS   2780 STILLWELL AVENUE     A  40.579526 -73.982425\n",
       "3  BRUNOS ON THE BOULEVARD  8825 ASTORIA BOULEVARD     A  40.764312 -73.880383\n",
       "4       WILKEN'S FINE FOOD           7114 AVENUE U     A  40.619893 -73.906840"
      ]
     },
     "execution_count": 4,
     "metadata": {},
     "output_type": "execute_result"
    }
   ],
   "source": [
    "import pandas as pd\n",
    "map_address = pd.read_csv('/Users/xshen/Desktop/map_data.csv')\n",
    "map_address = map_address.dropna(how='any')\n",
    "map_address.head()"
   ]
  },
  {
   "cell_type": "code",
   "execution_count": 6,
   "metadata": {
    "collapsed": true
   },
   "outputs": [],
   "source": [
    "map_address_c = map_address[map_address['grade']=='C']\n",
    "map_address_a = map_address[map_address['grade']=='A']\n",
    "map_address_b = map_address[map_address['grade']=='B']\n",
    "\n",
    "name_a = [name for name in map_address_a['DBA']]\n",
    "name_b = [name for name in map_address_b['DBA']]\n",
    "name_c = [name for name in map_address_c['DBA']]\n",
    "lat_a = [lat for lat in map_address_a['latitude']]\n",
    "lat_b = [lat for lat in map_address_b['latitude']]\n",
    "lat_c = [lat for lat in map_address_c['latitude']]\n",
    "lng_a = [lng for lng in map_address_a['longitude']]\n",
    "lng_b = [lng for lng in map_address_b['longitude']]\n",
    "lng_c = [lng for lng in map_address_c['longitude']]"
   ]
  },
  {
   "cell_type": "code",
   "execution_count": 9,
   "metadata": {},
   "outputs": [
    {
     "data": {
      "text/html": [
       "<iframe id=\"igraph\" scrolling=\"no\" style=\"border:none;\" seamless=\"seamless\" src=\"https://plot.ly/~gzsuyu/2.embed\" height=\"525px\" width=\"100%\"></iframe>"
      ],
      "text/plain": [
       "<plotly.tools.PlotlyDisplay object>"
      ]
     },
     "execution_count": 9,
     "metadata": {},
     "output_type": "execute_result"
    }
   ],
   "source": [
    "import plotly.plotly as py\n",
    "from plotly.graph_objs import *\n",
    "\n",
    "import plotly\n",
    "\n",
    "plotly.tools.set_credentials_file(username='gzsuyu', api_key='H0TlYl3cnDnLKxeTe4Y7')\n",
    "\n",
    "mapbox_access_token = 'pk.eyJ1IjoiZ3pzdXl1IiwiYSI6ImNqYXNzZjI1bzR3eDYzM3BkOWdmMjJoajkifQ.e2xhQQ-3B88av-NJeUXb4Q'\n",
    "\n",
    "data = Data([\n",
    "    Scattermapbox(lat=lat_a,lon=lng_a,mode='markers',marker=Marker(size=3,color='green'),text=name_a,),\n",
    "    Scattermapbox(lat=lat_b,lon=lng_b,mode='markers',marker=Marker(size=3.5,color='orange'),text=name_b,),\n",
    "    Scattermapbox(lat=lat_c,lon=lng_c,mode='markers',marker=Marker(size=4,color='red'),text=name_c,)\n",
    "])\n",
    "\n",
    "layout = Layout(autosize=True,hovermode='closest',mapbox=dict(accesstoken= mapbox_access_token,bearing=0,center=dict(lat=40.84,lon=-73.87),pitch=0,zoom=12),)\n",
    "\n",
    "fig = dict(data=data, layout=layout)\n",
    "py.iplot(fig, filename='Multiple Mapbox')"
   ]
  },
  {
   "cell_type": "markdown",
   "metadata": {},
   "source": [
    "<h3>Analyze with Yelp\n",
    "<h4>How about the restaurants in 'C-level'? Yelp learn you more."
   ]
  },
  {
   "cell_type": "code",
   "execution_count": 29,
   "metadata": {
    "collapsed": true
   },
   "outputs": [],
   "source": [
    "import urllib\n",
    "from urllib.error import HTTPError\n",
    "from urllib.parse import quote\n",
    "from urllib.parse import urlencode\n",
    "import requests\n",
    "import numpy as np\n",
    "\n",
    "CLIENT_ID = 'fwYc0KEvY0ZPV9k8kKgmiQ'\n",
    "CLIENT_SECRET = 'uTSakrzQLLvN6bVZT29Y534yUZwvZrq0kyNEGtpc4lbMv900ccJ6PWvrFZS6b5YG'\n",
    "\n",
    "#default\n",
    "API_HOST = 'https://api.yelp.com'\n",
    "SEARCH_PATH = '/v3/businesses/search'\n",
    "BUSINESS_PATH = '/v3/businesses/'  \n",
    "TOKEN_PATH = '/oauth2/token'\n",
    "GRANT_TYPE = 'client_credentials'\n",
    "\n",
    "\n",
    "\n",
    "def obtain_bearer_token(host, path):\n",
    "    url = '{0}{1}'.format(host, quote(path.encode('utf8')))\n",
    "    data = urlencode({\n",
    "        'client_id': CLIENT_ID,\n",
    "        'client_secret': CLIENT_SECRET,\n",
    "        'grant_type': GRANT_TYPE,\n",
    "    })\n",
    "    headers = {\n",
    "        'content-type': 'application/x-www-form-urlencoded',\n",
    "    }\n",
    "    response = requests.request('POST', url, data=data, headers=headers)\n",
    "    bearer_token = response.json()['access_token']\n",
    "    return bearer_token\n",
    "\n",
    "#we get bearer token here\n",
    "bearer_token = obtain_bearer_token(API_HOST, TOKEN_PATH)\n",
    "\n",
    "def request(host, path, bearer_token, url_params=None):\n",
    "    url_params = url_params or {}\n",
    "    url = '{0}{1}'.format(host, quote(path.encode('utf8')))\n",
    "    headers = {\n",
    "        'Authorization': 'Bearer %s' % bearer_token,\n",
    "    }\n",
    "    response = requests.request('GET', url, headers=headers, params=url_params)\n",
    "\n",
    "    return response.json()\n",
    "\n",
    "\n",
    "def search(bearer_token, term, location):\n",
    "    url_params = {\n",
    "        'term': term.replace(' ', '+'),\n",
    "        'location': location.replace(' ', '+'),\n",
    "        'limit': 2 #just need the first one...\n",
    "    }\n",
    "    \n",
    "    return request(API_HOST, SEARCH_PATH, bearer_token, url_params=url_params)\n",
    "\n",
    "\n",
    "def get_data(result):\n",
    "    try:\n",
    "        price = result_yelp['price']\n",
    "    except:\n",
    "        price = np.nan\n",
    "    name = result_yelp['name']\n",
    "    business_id = result_yelp['id']\n",
    "    rating = result_yelp['rating']\n",
    "    review_num = result_yelp['review_count']\n",
    "    return [name,business_id,price,rating,review_num]"
   ]
  },
  {
   "cell_type": "code",
   "execution_count": 69,
   "metadata": {
    "collapsed": true,
    "scrolled": true
   },
   "outputs": [],
   "source": [
    "a_yelpdata = list()\n",
    "\n",
    "#get data from Yelp\n",
    "for name,address in zip(map_address_a['DBA'],map_address_a['address']): #a,b,c\n",
    "    address += ',NY'\n",
    "    response = search(bearer_token, name, address)\n",
    "    if response['businesses']:\n",
    "        result_yelp = response['businesses'][0]\n",
    "        result_list = get_data(result_yelp)        \n",
    "    else:\n",
    "        result_list= []\n",
    "    a_yelpdata.append(result_list)\n",
    "\n",
    "#create a dataframe named c_yelp\n",
    "a_yelp = pd.DataFrame(a_yelpdata,columns = ['name','id','price','rating','review_count'])"
   ]
  },
  {
   "cell_type": "code",
   "execution_count": 72,
   "metadata": {},
   "outputs": [
    {
     "data": {
      "text/html": [
       "<div>\n",
       "<style>\n",
       "    .dataframe thead tr:only-child th {\n",
       "        text-align: right;\n",
       "    }\n",
       "\n",
       "    .dataframe thead th {\n",
       "        text-align: left;\n",
       "    }\n",
       "\n",
       "    .dataframe tbody tr th {\n",
       "        vertical-align: top;\n",
       "    }\n",
       "</style>\n",
       "<table border=\"1\" class=\"dataframe\">\n",
       "  <thead>\n",
       "    <tr style=\"text-align: right;\">\n",
       "      <th></th>\n",
       "      <th>name</th>\n",
       "      <th>id</th>\n",
       "      <th>price</th>\n",
       "      <th>rating</th>\n",
       "      <th>review_count</th>\n",
       "    </tr>\n",
       "  </thead>\n",
       "  <tbody>\n",
       "    <tr>\n",
       "      <th>0</th>\n",
       "      <td>Morris Pk Bake Shop</td>\n",
       "      <td>morris-pk-bake-shop-bronx</td>\n",
       "      <td>$$</td>\n",
       "      <td>4.5</td>\n",
       "      <td>31.0</td>\n",
       "    </tr>\n",
       "    <tr>\n",
       "      <th>1</th>\n",
       "      <td>Wendy's</td>\n",
       "      <td>wendys-brooklyn-4</td>\n",
       "      <td>$</td>\n",
       "      <td>2.0</td>\n",
       "      <td>30.0</td>\n",
       "    </tr>\n",
       "    <tr>\n",
       "      <th>4</th>\n",
       "      <td>Bella Luna</td>\n",
       "      <td>bella-luna-new-york</td>\n",
       "      <td>$$</td>\n",
       "      <td>3.5</td>\n",
       "      <td>177.0</td>\n",
       "    </tr>\n",
       "    <tr>\n",
       "      <th>5</th>\n",
       "      <td>Taste the Tropics</td>\n",
       "      <td>taste-the-tropics-brooklyn</td>\n",
       "      <td>$</td>\n",
       "      <td>4.5</td>\n",
       "      <td>20.0</td>\n",
       "    </tr>\n",
       "    <tr>\n",
       "      <th>7</th>\n",
       "      <td>Pastafina</td>\n",
       "      <td>pastafina-new-york-2</td>\n",
       "      <td>$</td>\n",
       "      <td>2.5</td>\n",
       "      <td>64.0</td>\n",
       "    </tr>\n",
       "  </tbody>\n",
       "</table>\n",
       "</div>"
      ],
      "text/plain": [
       "                  name                          id price  rating  review_count\n",
       "0  Morris Pk Bake Shop   morris-pk-bake-shop-bronx    $$     4.5          31.0\n",
       "1              Wendy's           wendys-brooklyn-4     $     2.0          30.0\n",
       "4           Bella Luna         bella-luna-new-york    $$     3.5         177.0\n",
       "5    Taste the Tropics  taste-the-tropics-brooklyn     $     4.5          20.0\n",
       "7            Pastafina        pastafina-new-york-2     $     2.5          64.0"
      ]
     },
     "execution_count": 72,
     "metadata": {},
     "output_type": "execute_result"
    }
   ],
   "source": [
    "a_yelp.to_csv('a_yelp.csv',header = True, index=False)\n",
    "a_yelp = a_yelp.dropna(how  ='any')\n",
    "a_yelp.head()"
   ]
  },
  {
   "cell_type": "code",
   "execution_count": 28,
   "metadata": {
    "scrolled": true
   },
   "outputs": [
    {
     "data": {
      "text/plain": [
       "14691"
      ]
     },
     "execution_count": 28,
     "metadata": {},
     "output_type": "execute_result"
    }
   ],
   "source": [
    "import pandas as pd \n",
    "a_yelp = pd.read_csv('a_yelp.csv',encoding='ISO-8859-1')\n",
    "a_yelp = a_yelp.dropna(how  ='any')\n",
    "len(a_yelp)"
   ]
  },
  {
   "cell_type": "markdown",
   "metadata": {},
   "source": [
    "<h4> How is C-level restaurants think by the people?- yelp review vs text mining"
   ]
  },
  {
   "cell_type": "code",
   "execution_count": 30,
   "metadata": {
    "collapsed": true
   },
   "outputs": [],
   "source": [
    "def get_review(bearer_token,business_id):\n",
    "    path = BUSINESS_PATH + business_id+\"/reviews\"\n",
    "    return request(API_HOST,path,bearer_token)\n",
    "\n",
    "#get reviews from Yelp by restaurant id\n",
    "text_list = list()\n",
    "for i in a_yelp['id']:\n",
    "    review_response = get_review(bearer_token,i)\n",
    "    if 'error' not in review_response.keys():\n",
    "        if review_response['total']>=1:\n",
    "            text_data = ''\n",
    "            for i in review_response['reviews']:\n",
    "                text_data += i['text']\n",
    "            text_list.append(text_data)\n",
    "    else:\n",
    "        text_list.append('')\n",
    "        \n",
    "\n",
    "#add the text into c_yelp dataframe\n",
    "a_yelp['review'] = text_list\n",
    "\n",
    "#save to csv\n",
    "a_yelp.to_csv('a_yelp.csv',index=False,header=True)"
   ]
  },
  {
   "cell_type": "code",
   "execution_count": 4,
   "metadata": {
    "collapsed": true
   },
   "outputs": [],
   "source": [
    "import pandas as pd\n",
    "a_yelp = pd.read_csv('a_yelp.csv',encoding='ISO-8859-1')\n",
    "b_yelp = pd.read_csv('b_yelp.csv',encoding='ISO-8859-1')\n",
    "c_yelp = pd.read_csv('c_yelp.csv')\n",
    "a_yelp = a_yelp.dropna(how='any')\n",
    "b_yelp = b_yelp.dropna(how='any')\n",
    "c_yelp = c_yelp.dropna(how='any')"
   ]
  },
  {
   "cell_type": "code",
   "execution_count": 5,
   "metadata": {},
   "outputs": [
    {
     "data": {
      "text/html": [
       "<div>\n",
       "<style>\n",
       "    .dataframe thead tr:only-child th {\n",
       "        text-align: right;\n",
       "    }\n",
       "\n",
       "    .dataframe thead th {\n",
       "        text-align: left;\n",
       "    }\n",
       "\n",
       "    .dataframe tbody tr th {\n",
       "        vertical-align: top;\n",
       "    }\n",
       "</style>\n",
       "<table border=\"1\" class=\"dataframe\">\n",
       "  <thead>\n",
       "    <tr style=\"text-align: right;\">\n",
       "      <th></th>\n",
       "      <th>name</th>\n",
       "      <th>id</th>\n",
       "      <th>price</th>\n",
       "      <th>rating</th>\n",
       "      <th>review_count</th>\n",
       "      <th>review</th>\n",
       "    </tr>\n",
       "  </thead>\n",
       "  <tbody>\n",
       "    <tr>\n",
       "      <th>0</th>\n",
       "      <td>Morris Pk Bake Shop</td>\n",
       "      <td>morris-pk-bake-shop-bronx</td>\n",
       "      <td>$$</td>\n",
       "      <td>4.5</td>\n",
       "      <td>31.0</td>\n",
       "      <td>I can't believe I never reviewed this place.  ...</td>\n",
       "    </tr>\n",
       "    <tr>\n",
       "      <th>1</th>\n",
       "      <td>Wendy's</td>\n",
       "      <td>wendys-brooklyn-4</td>\n",
       "      <td>$</td>\n",
       "      <td>2.0</td>\n",
       "      <td>30.0</td>\n",
       "      <td>\"No gift cards. No Pre-paid cards. ID name mus...</td>\n",
       "    </tr>\n",
       "    <tr>\n",
       "      <th>2</th>\n",
       "      <td>Bella Luna</td>\n",
       "      <td>bella-luna-new-york</td>\n",
       "      <td>$$</td>\n",
       "      <td>3.5</td>\n",
       "      <td>177.0</td>\n",
       "      <td>I came in for pizza take out after walking by ...</td>\n",
       "    </tr>\n",
       "    <tr>\n",
       "      <th>3</th>\n",
       "      <td>Taste the Tropics</td>\n",
       "      <td>taste-the-tropics-brooklyn</td>\n",
       "      <td>$</td>\n",
       "      <td>4.5</td>\n",
       "      <td>20.0</td>\n",
       "      <td>I think I had strawberry cheesecake ice cream ...</td>\n",
       "    </tr>\n",
       "    <tr>\n",
       "      <th>4</th>\n",
       "      <td>Pastafina</td>\n",
       "      <td>pastafina-new-york-2</td>\n",
       "      <td>$</td>\n",
       "      <td>2.5</td>\n",
       "      <td>64.0</td>\n",
       "      <td>Pizza and beef patty are decent.\\r\\nBut this p...</td>\n",
       "    </tr>\n",
       "  </tbody>\n",
       "</table>\n",
       "</div>"
      ],
      "text/plain": [
       "                  name                          id price  rating  \\\n",
       "0  Morris Pk Bake Shop   morris-pk-bake-shop-bronx    $$     4.5   \n",
       "1              Wendy's           wendys-brooklyn-4     $     2.0   \n",
       "2           Bella Luna         bella-luna-new-york    $$     3.5   \n",
       "3    Taste the Tropics  taste-the-tropics-brooklyn     $     4.5   \n",
       "4            Pastafina        pastafina-new-york-2     $     2.5   \n",
       "\n",
       "   review_count                                             review  \n",
       "0          31.0  I can't believe I never reviewed this place.  ...  \n",
       "1          30.0  \"No gift cards. No Pre-paid cards. ID name mus...  \n",
       "2         177.0  I came in for pizza take out after walking by ...  \n",
       "3          20.0  I think I had strawberry cheesecake ice cream ...  \n",
       "4          64.0  Pizza and beef patty are decent.\\r\\nBut this p...  "
      ]
     },
     "execution_count": 5,
     "metadata": {},
     "output_type": "execute_result"
    }
   ],
   "source": [
    "a_yelp.head()"
   ]
  },
  {
   "cell_type": "code",
   "execution_count": 8,
   "metadata": {
    "collapsed": true
   },
   "outputs": [],
   "source": [
    "price_dict = dict()\n",
    "rating_dict = dict()\n",
    "review_dict = dict()\n",
    "\n",
    "def get_price(x):\n",
    "    price=[]\n",
    "    for p in x['price']:\n",
    "        price+=[len(p)]\n",
    "    return price\n",
    "\n",
    "def get_rating(x):\n",
    "    rating=[]\n",
    "    for r in x['rating']:\n",
    "        rating += [r]\n",
    "    return rating\n",
    "\n",
    "def get_review(x):\n",
    "    reviews = ''\n",
    "    for review in x['review']:\n",
    "        reviews += review\n",
    "    return reviews\n",
    "    \n",
    "price_dict.update({'a':get_price(a_yelp),'b':get_price(b_yelp),'c':get_price(c_yelp)})\n",
    "rating_dict.update({'a':get_rating(a_yelp),'b':get_rating(b_yelp),'c':get_rating(c_yelp)})\n",
    "review_dict.update({'a':get_review(a_yelp),'b':get_review(b_yelp),'c':get_review(c_yelp)})"
   ]
  },
  {
   "cell_type": "code",
   "execution_count": 62,
   "metadata": {},
   "outputs": [
    {
     "name": "stdout",
     "output_type": "stream",
     "text": [
      "1.67338931718 1.6834264432 1.61682242991\n",
      "3.61470952643 3.55586592179 3.49299065421\n"
     ]
    },
    {
     "data": {
      "text/plain": [
       "[]"
      ]
     },
     "execution_count": 62,
     "metadata": {},
     "output_type": "execute_result"
    },
    {
     "data": {
      "image/png": "[encoded data removed]",
      "text/plain": [
       "<matplotlib.figure.Figure at 0x1b820152a90>"
      ]
     },
     "metadata": {},
     "output_type": "display_data"
    }
   ],
   "source": [
    "import numpy as np\n",
    "print(np.mean(price_dict['a']),np.mean(price_dict['b']),np.mean(price_dict['c']))\n",
    "print(np.mean(rating_dict['a']),np.mean(rating_dict['b']),np.mean(rating_dict['c']))\n",
    "#####\n",
    "\n",
    "import matplotlib.pyplot as plt\n",
    "%matplotlib inline\n",
    "fig,axes = plt.subplots(1, 2, figsize=(10,5))\n",
    "\n",
    "data1 = [price_dict['a'],price_dict['b'],price_dict['c']]\n",
    "labels1 = ['A', 'B', 'C']\n",
    "plt.subplot(121)\n",
    "plt.boxplot(data1, labels = labels1)\n",
    "\n",
    "data2 = [rating_dict['a'],rating_dict['b'],rating_dict['c']]\n",
    "labels2 = ['A', 'B', 'C']\n",
    "plt.subplot(122)\n",
    "plt.boxplot(data2, labels = labels2)\n",
    " \n",
    "plt.plot()"
   ]
  },
  {
   "cell_type": "code",
   "execution_count": 65,
   "metadata": {},
   "outputs": [
    {
     "name": "stdout",
     "output_type": "stream",
     "text": [
      "positive_rate is 4.771%,negative_rate is 1.471%\n",
      "positive_rate is 4.564%,negative_rate is 1.484%\n",
      "positive_rate is 4.386%,negative_rate is 1.513%\n"
     ]
    }
   ],
   "source": [
    "import requests\n",
    "#get positive/negative words from \n",
    "p = 'http://ptrckprry.com/course/ssd/data/positive-words.txt'\n",
    "n = 'http://ptrckprry.com/course/ssd/data/negative-words.txt'\n",
    "def get_word(url):\n",
    "    word_data = requests.get(url).content.decode('latin-1').split('\\n')\n",
    "    return_list = list()\n",
    "    for i in word_data:\n",
    "        if (';' in i or i==''):\n",
    "            pass\n",
    "        else:\n",
    "            return_list.append(i)\n",
    "    return return_list\n",
    "    \n",
    "positive_word = get_word(p)\n",
    "negative_word = get_word(n)\n",
    "\n",
    "#Then we calculate the positive rate and negative rate here.\n",
    "\n",
    "def pos_neg_analyzer(text):\n",
    "    from nltk import word_tokenize\n",
    "    word = word_tokenize(text)\n",
    "    neg_count = 0\n",
    "    pos_count = 0\n",
    "    pos_list = list()\n",
    "    neg_list = list()\n",
    "    \n",
    "    for i in word:\n",
    "        if i in positive_word:\n",
    "            pos_list.append(i)\n",
    "            pos_count += 1\n",
    "        if i in negative_word:\n",
    "            neg_list.append(i)\n",
    "            neg_count += 1\n",
    "    \n",
    "    neg_rate = neg_count/len(word)*100\n",
    "    pos_rate = pos_count/len(word)*100\n",
    "    \n",
    "    return 'positive_rate is {0:1.3f}%,negative_rate is {1:1.3f}%'.format(pos_rate,neg_rate)\n",
    "\n",
    "print(pos_neg_analyzer(review_dict['a']))\n",
    "print(pos_neg_analyzer(review_dict['b']))\n",
    "print(pos_neg_analyzer(review_dict['c']))"
   ]
  },
  {
   "cell_type": "code",
   "execution_count": 85,
   "metadata": {
    "collapsed": true
   },
   "outputs": [],
   "source": [
    "clean_review = dict()\n",
    "from nltk import sent_tokenize\n",
    "for level,each_level in review_dict.items():\n",
    "    review_l = ''\n",
    "    for each_review in sent_tokenize(each_level):\n",
    "        if ('clean'or'unclean' or 'dirty'or 'fresh' or'preserved' or 'stale') in each_review:\n",
    "            review_l += each_review\n",
    "    clean_review.update({level:review_l})\n",
    "    \n"
   ]
  },
  {
   "cell_type": "code",
   "execution_count": 83,
   "metadata": {
    "collapsed": true
   },
   "outputs": [],
   "source": [
    "def vader_comparison(texts):\n",
    "    from vaderSentiment.vaderSentiment import SentimentIntensityAnalyzer\n",
    "    headers = ['pos','neg','neu','compound']\n",
    "    print('pos\\t','neg\\t','neu\\t','compound')\n",
    "    analyzer = SentimentIntensityAnalyzer()\n",
    "    sentences = sent_tokenize(texts)\n",
    "    pos=compound=neu=neg=0\n",
    "    for sentence in sentences:\n",
    "        vs = analyzer.polarity_scores(sentence)\n",
    "        pos+=vs['pos']/(len(sentences))\n",
    "        compound+=vs['compound']/(len(sentences))\n",
    "        neu+=vs['neu']/(len(sentences))\n",
    "        neg+=vs['neg']/(len(sentences))\n",
    "    print('%1.2f\\t'%pos,'%1.2f\\t'%neg,'%1.2f\\t'%neu,'%1.2f\\t'%compound)"
   ]
  },
  {
   "cell_type": "code",
   "execution_count": 84,
   "metadata": {},
   "outputs": [
    {
     "name": "stdout",
     "output_type": "stream",
     "text": [
      "pos\t neg\t neu\t compound\n",
      "0.26\t 0.03\t 0.71\t 0.95\t\n",
      "None\n",
      "pos\t neg\t neu\t compound\n",
      "0.23\t 0.03\t 0.74\t 0.77\t\n",
      "None\n",
      "pos\t neg\t neu\t compound\n",
      "0.21\t 0.14\t 0.65\t 0.95\t\n"
     ]
    }
   ],
   "source": [
    "print(vader_comparison(clean_review['a']))\n",
    "print(vader_comparison(clean_review['b']))\n",
    "vader_comparison(clean_review['c'])"
   ]
  },
  {
   "cell_type": "markdown",
   "metadata": {},
   "source": [
    "<h4>What did people feel bad about?"
   ]
  },
  {
   "cell_type": "code",
   "execution_count": 87,
   "metadata": {
    "collapsed": true
   },
   "outputs": [],
   "source": [
    "#select the negative reviews by adding score\n",
    "def select_neg_sent(x):\n",
    "    from nltk.tokenize import sent_tokenize\n",
    "    neg_sent = dict()\n",
    "    for each_sent in sent_tokenize(x):\n",
    "        for neg_word in negative_word:\n",
    "            if (neg_word in each_sent and each_sent not in neg_sent.keys()):\n",
    "                neg_sent.update({each_sent:1})\n",
    "            elif (neg_word in each_sent and each_sent in neg_sent.keys()):\n",
    "                neg_sent[each_sent] += 1\n",
    "              \n",
    "    for each_sent in sent_tokenize(x):        \n",
    "        for pos_word in positive_word:\n",
    "            if (pos_word in each_sent and each_sent in neg_sent.keys()):\n",
    "                neg_sent[each_sent] -= 1\n",
    "                \n",
    "    neg_sent_raw = ''\n",
    "    for key,value in neg_sent.items():\n",
    "        if value > 0:\n",
    "            neg_sent_raw += key\n",
    "    \n",
    "    return neg_sent_raw.lower()\n",
    "\n",
    "                \n",
    "neg_sent_a = select_neg_sent(review_dict['a'])\n",
    "neg_sent_b = select_neg_sent(review_dict['b'])\n",
    "neg_sent_c = select_neg_sent(review_dict['c'])\n",
    "#sorted(neg_sent.items(),key = lambda x: x[1], reverse=True)[:5]"
   ]
  },
  {
   "cell_type": "code",
   "execution_count": 98,
   "metadata": {},
   "outputs": [
    {
     "data": {
      "image/png": "[encoded data removed]",
      "text/plain": [
       "<matplotlib.figure.Figure at 0x1b82cd92438>"
      ]
     },
     "metadata": {},
     "output_type": "display_data"
    }
   ],
   "source": [
    "from wordcloud import WordCloud, STOPWORDS\n",
    "import matplotlib.pyplot as plt\n",
    "%matplotlib inline\n",
    "STOPWORDS.add('place')\n",
    "STOPWORDS.add('restaurant')\n",
    "\n",
    "\n",
    "fig, axes = plt.subplots(1, 3, figsize=(12,12))\n",
    "\n",
    "ax = axes[0]\n",
    "wordcloud = WordCloud(stopwords=STOPWORDS,background_color='white',width=3000,height=3000,max_words=30).generate(neg_sent_a)\n",
    "ax.imshow(wordcloud)\n",
    "ax.axis('off')\n",
    "ax = axes[1]\n",
    "wordcloud = WordCloud(stopwords=STOPWORDS,background_color='white',width=3000,height=3000,max_words=30).generate(neg_sent_b)\n",
    "ax.imshow(wordcloud)\n",
    "ax.axis('off')\n",
    "ax = axes[2]\n",
    "wordcloud = WordCloud(stopwords=STOPWORDS,background_color='white',width=3000,height=3000,max_words=30).generate(neg_sent_c)\n",
    "ax.imshow(wordcloud)\n",
    "ax.axis('off')\n",
    "\n",
    "plt.show()"
   ]
  },
  {
   "cell_type": "markdown",
   "metadata": {},
   "source": [
    "<h1>Data Analysis "
   ]
  },
  {
   "cell_type": "markdown",
   "metadata": {},
   "source": [
    "<li>create a map converting \"CUISINE\" (string) to cuisine categories marked by integers\n",
    "<li>add a column 'A_or_not', grade A -> 1, grade B/C -> 0"
   ]
  },
  {
   "cell_type": "markdown",
   "metadata": {},
   "source": [
    "<li>since 91% restaurants receive A and only 9% of them receive B/C, we did undersampling here to adjust the ratio between the different categories represented, now they have the same sample size"
   ]
  },
  {
   "cell_type": "code",
   "execution_count": 3,
   "metadata": {},
   "outputs": [],
   "source": [
    "import pandas as pd\n",
    "c_yelp=pd.read_csv(\"c_yelp.csv\")\n",
    "a_yelp=pd.read_csv(\"a_yelp.csv\",encoding='ISO-8859-1')\n",
    "b_yelp=pd.read_csv(\"b_yelp.csv\",encoding='ISO-8859-1')\n",
    "a_yelp['A_or_not']=1\n",
    "b_yelp['A_or_not']=0\n",
    "c_yelp['A_or_not']=0"
   ]
  },
  {
   "cell_type": "code",
   "execution_count": 4,
   "metadata": {
    "collapsed": true
   },
   "outputs": [],
   "source": [
    "bc_yelp=pd.concat([b_yelp,c_yelp])"
   ]
  },
  {
   "cell_type": "code",
   "execution_count": 5,
   "metadata": {
    "collapsed": true
   },
   "outputs": [],
   "source": [
    "a_yelp_resample=a_yelp.sample(n=1310)  "
   ]
  },
  {
   "cell_type": "code",
   "execution_count": 6,
   "metadata": {
    "collapsed": true
   },
   "outputs": [],
   "source": [
    "yelp_data=pd.concat([bc_yelp,a_yelp_resample])"
   ]
  },
  {
   "cell_type": "markdown",
   "metadata": {},
   "source": [
    "<li>our predicting value y is A_or_not (whether the restaurant is graded A or not)"
   ]
  },
  {
   "cell_type": "code",
   "execution_count": 7,
   "metadata": {
    "collapsed": true
   },
   "outputs": [],
   "source": [
    "from sklearn.utils import shuffle  \n",
    "yelp_data = shuffle(yelp_data)"
   ]
  },
  {
   "cell_type": "code",
   "execution_count": 11,
   "metadata": {},
   "outputs": [],
   "source": [
    "import numpy as np\n",
    "yelp_data['price_level']=0\n",
    "yelpnp=np.array(yelp_data)\n",
    "for i in range(len(yelpnp)):\n",
    "    yelpnp[i][7]=str(yelpnp[i][2]).count('$')\n",
    "               \n",
    "yelp = pd.DataFrame(yelpnp)\n",
    "yelp.columns=['name','id','price','rating','review_count','review','A_or_not','price_level']"
   ]
  },
  {
   "cell_type": "code",
   "execution_count": 28,
   "metadata": {},
   "outputs": [],
   "source": [
    "from sklearn.model_selection import train_test_split\n",
    "train, test = train_test_split(yelp, test_size = 0.3)\n",
    "x_train = train.iloc[0:,[3,7]]\n",
    "y_train = train['A_or_not']\n",
    "x_test = test.iloc[0:,[3,7]]\n",
    "y_test = test['A_or_not']"
   ]
  },
  {
   "cell_type": "code",
   "execution_count": 29,
   "metadata": {},
   "outputs": [
    {
     "data": {
      "text/plain": [
       "LinearRegression(copy_X=True, fit_intercept=True, n_jobs=1, normalize=False)"
      ]
     },
     "execution_count": 29,
     "metadata": {},
     "output_type": "execute_result"
    }
   ],
   "source": [
    "from sklearn import linear_model\n",
    "model = linear_model.LinearRegression()\n",
    "\n",
    "y_train=y_train.astype(int)\n",
    "y_test=y_test.astype(int)\n",
    "model.fit(x_train,y_train)"
   ]
  },
  {
   "cell_type": "code",
   "execution_count": 30,
   "metadata": {},
   "outputs": [
    {
     "name": "stdout",
     "output_type": "stream",
     "text": [
      "0.248075863681 0.252424664038\n"
     ]
    }
   ],
   "source": [
    "from sklearn.metrics import mean_squared_error, r2_score\n",
    "y_pred_training = model.predict(x_train)\n",
    "y_pred_testing = model.predict(x_test)\n",
    "training_msq = mean_squared_error(y_pred_training,y_train)\n",
    "testing_msq = mean_squared_error(y_pred_testing,y_test)\n",
    "print(training_msq,testing_msq)"
   ]
  },
  {
   "cell_type": "code",
   "execution_count": 31,
   "metadata": {},
   "outputs": [
    {
     "name": "stdout",
     "output_type": "stream",
     "text": [
      "Train R-Square: 0.00768592457833\n",
      "Test R-Square: -0.00975749640166\n"
     ]
    }
   ],
   "source": [
    "print('Train R-Square:',r2_score(y_train,y_pred_training))\n",
    "print('Test R-Square:',r2_score(y_test,y_pred_testing))"
   ]
  },
  {
   "cell_type": "code",
   "execution_count": 32,
   "metadata": {
    "collapsed": true
   },
   "outputs": [],
   "source": [
    "def confusion_matrix(predicted, actual, threshold):\n",
    "    if len(predicted) != len(actual): return -1\n",
    "    tp = 0.0\n",
    "    fp = 0.0\n",
    "    tn = 0.0\n",
    "    fn = 0.0\n",
    "    for i in range(len(actual)):\n",
    "        if actual[i] > threshold: #labels that are 1.0  (positive examples)\n",
    "            if predicted[i] > threshold:\n",
    "                tp += 1.0 #correctly predicted positive\n",
    "            else:\n",
    "                fn += 1.0 #incorrectly predicted negative\n",
    "        else:              #labels that are 0.0 (negative examples)\n",
    "            if predicted[i] < threshold:\n",
    "                tn += 1.0 #correctly predicted negative\n",
    "            else:\n",
    "                fp += 1.0 #incorrectly predicted positive\n",
    "    rtn = [tp, fp, tn, fn]\n",
    "\n",
    "    return rtn"
   ]
  },
  {
   "cell_type": "code",
   "execution_count": 33,
   "metadata": {},
   "outputs": [
    {
     "name": "stdout",
     "output_type": "stream",
     "text": [
      "218.0 233.0 163.0 172.0\n"
     ]
    }
   ],
   "source": [
    "testing_predictions = y_pred_testing\n",
    "tp,fp,tn,fn = confusion_matrix(testing_predictions,np.array(y_test),0.5)\n",
    "print(tp,fp,tn,fn)"
   ]
  },
  {
   "cell_type": "code",
   "execution_count": 34,
   "metadata": {},
   "outputs": [
    {
     "name": "stdout",
     "output_type": "stream",
     "text": [
      "Percentage of A restaurants that are correctly identified as A: 0.558974358974359\n"
     ]
    }
   ],
   "source": [
    "tpr = tp/(tp+fn)\n",
    "print(\"Percentage of A restaurants that are correctly identified as A:\",tpr)"
   ]
  },
  {
   "cell_type": "code",
   "execution_count": 35,
   "metadata": {},
   "outputs": [
    {
     "name": "stdout",
     "output_type": "stream",
     "text": [
      "Percentage of NOT A restaurants that are correctly identified as NOT A: 0.4116161616161616\n"
     ]
    }
   ],
   "source": [
    "tnr = tn/(tn+fp)\n",
    "print(\"Percentage of NOT A restaurants that are correctly identified as NOT A:\",tnr)"
   ]
  },
  {
   "cell_type": "code",
   "execution_count": 36,
   "metadata": {},
   "outputs": [
    {
     "name": "stdout",
     "output_type": "stream",
     "text": [
      "Proportion of actual A restaurants amongst all things that are identified as A 0.48337028824833705\n"
     ]
    }
   ],
   "source": [
    "precision = tp/(tp+fp)\n",
    "print(\"Proportion of actual A restaurants amongst all things that are identified as A\",precision)"
   ]
  },
  {
   "cell_type": "code",
   "execution_count": 37,
   "metadata": {},
   "outputs": [
    {
     "name": "stdout",
     "output_type": "stream",
     "text": [
      "0.25921521997621877\n"
     ]
    }
   ],
   "source": [
    "f = precision*tpr/(precision+tpr)\n",
    "print(f)"
   ]
  },
  {
   "cell_type": "code",
   "execution_count": 38,
   "metadata": {},
   "outputs": [
    {
     "name": "stdout",
     "output_type": "stream",
     "text": [
      "0.4847328244274809\n"
     ]
    }
   ],
   "source": [
    "accuracy = (tp+tn)/(tp+tn+fp+fn)\n",
    "print(accuracy)"
   ]
  },
  {
   "cell_type": "markdown",
   "metadata": {},
   "source": []
  },
  {
   "cell_type": "code",
   "execution_count": 39,
   "metadata": {},
   "outputs": [
    {
     "data": {
      "text/plain": [
       "DecisionTreeClassifier(class_weight=None, criterion='gini', max_depth=3,\n",
       "            max_features=None, max_leaf_nodes=None,\n",
       "            min_impurity_decrease=0.0, min_impurity_split=None,\n",
       "            min_samples_leaf=1, min_samples_split=2,\n",
       "            min_weight_fraction_leaf=0.0, presort=False, random_state=None,\n",
       "            splitter='best')"
      ]
     },
     "execution_count": 39,
     "metadata": {},
     "output_type": "execute_result"
    }
   ],
   "source": [
    "from sklearn.tree import DecisionTreeClassifier\n",
    "from sklearn import tree\n",
    "model2 = tree.DecisionTreeClassifier(max_depth=3)\n",
    "model2.fit(x_train,y_train)"
   ]
  },
  {
   "cell_type": "code",
   "execution_count": 40,
   "metadata": {},
   "outputs": [
    {
     "name": "stdout",
     "output_type": "stream",
     "text": [
      "0.446564885496 0.497455470738\n"
     ]
    }
   ],
   "source": [
    "from sklearn.metrics import mean_squared_error, r2_score\n",
    "y_pred_training2 = model2.predict(x_train)\n",
    "y_pred_testing2 = model2.predict(x_test)\n",
    "training_msq2 = mean_squared_error(y_pred_training2,y_train)\n",
    "testing_msq2 = mean_squared_error(y_pred_testing2,y_test)\n",
    "print(training_msq2,testing_msq2)"
   ]
  },
  {
   "cell_type": "code",
   "execution_count": 41,
   "metadata": {},
   "outputs": [
    {
     "name": "stdout",
     "output_type": "stream",
     "text": [
      "Training R-Square 0.553435114504\n",
      "Testing R-Square 0.502544529262\n"
     ]
    }
   ],
   "source": [
    "print(\"Training R-Square\",model2.score(x_train,y_train))\n",
    "print(\"Testing R-Square\",model2.score(x_test,y_test))"
   ]
  },
  {
   "cell_type": "code",
   "execution_count": 42,
   "metadata": {},
   "outputs": [
    {
     "data": {
      "image/png": "[encoded data removed]",
      "text/plain": [
       "<IPython.core.display.Image object>"
      ]
     },
     "execution_count": 42,
     "metadata": {},
     "output_type": "execute_result"
    }
   ],
   "source": [
    "import pydotplus \n",
    "from IPython.display import Image\n",
    "feature_names = ['rating','price']\n",
    "dot_data = tree.export_graphviz(model2, out_file=None,feature_names=feature_names) \n",
    "\n",
    "graph = pydotplus.graphviz.graph_from_dot_data(dot_data)\n",
    "\n",
    "Image(graph.create_png())\n"
   ]
  },
  {
   "cell_type": "code",
   "execution_count": null,
   "metadata": {
    "collapsed": true
   },
   "outputs": [],
   "source": []
  }
 ],
 "metadata": {
  "kernelspec": {
   "display_name": "Python 3",
   "language": "python",
   "name": "python3"
  },
  "language_info": {
   "codemirror_mode": {
    "name": "ipython",
    "version": 3
   },
   "file_extension": ".py",
   "mimetype": "text/x-python",
   "name": "python",
   "nbconvert_exporter": "python",
   "pygments_lexer": "ipython3",
   "version": "3.6.2"
  }
 },
 "nbformat": 4,
 "nbformat_minor": 2
}
